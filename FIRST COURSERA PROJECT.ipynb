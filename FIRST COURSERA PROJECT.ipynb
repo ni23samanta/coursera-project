{
 "cells": [
  {
   "cell_type": "markdown",
   "id": "cf19cd2a",
   "metadata": {},
   "source": [
    "## FIRST COURSERA PROJECT"
   ]
  },
  {
   "cell_type": "markdown",
   "id": "aa163a80",
   "metadata": {},
   "source": [
    "### INTRODUCTION\n",
    "\n",
    "Data Science is a combination of multiple disciplines that uses statistics, data analysis, and machine learning to analyze data and to extract knowledge and insights from it.\n",
    "\n",
    "Data Science is about data gathering, analysis and decision-making.\n",
    "\n",
    "Data Science is about finding patterns in data, through analysis, and make future predictions.\n",
    "\n",
    "By using Data Science, companies are able to make:\n",
    "\n",
    "Better decisions (should we choose A or B)\n",
    "Predictive analysis (what will happen next?)\n",
    "Pattern discoveries (find pattern, or maybe hidden information in the data)\n",
    "\n",
    "by completing this COURSERA course, anyone can be able to choose their career as a data scientist."
   ]
  },
  {
   "cell_type": "markdown",
   "id": "973e6023",
   "metadata": {},
   "source": [
    "## DATA SCIENCE LANGUAGES\n",
    "\n",
    "1.Python\n",
    "2.SQL\n",
    "3.Java\n",
    "4.Julia\n",
    "5.Scala\n",
    "6.MATLAB\n",
    "7.Javascript\n",
    "8.C++\n",
    "9.Ruby\n",
    "10.R Language\n"
   ]
  },
  {
   "cell_type": "markdown",
   "id": "cea94a88",
   "metadata": {},
   "source": [
    "## DATA SCIENCE LIBRARIES\n",
    "\n",
    "1.TensorFlow\n",
    "2.NumPy\n",
    "3.SciPy\n",
    "4.Pandas\n",
    "5.Matplotlib\n",
    "6.Keras\n",
    "7.SciKit-Learn\n",
    "8.PyTorch\n",
    "9.ggplot2\n",
    "10.Bob"
   ]
  },
  {
   "cell_type": "markdown",
   "id": "5288161f",
   "metadata": {},
   "source": [
    "## DATA SCIENCE TOOLS\n",
    "\n",
    "Data Management Tools: Relational Databases, NoSQL Databases\n",
    "\n",
    "Big Data platforms: MySQL, and PostgreSQL are examples of Open Source Relational Database Management Systems (RDBMS), and IBM Db2 and SQL Server are examples of commercial RDBMSes and are also available as Cloud services. \n",
    "\n",
    "Data Integration and Transformation Tools: Apache Airflow and Apache Kafka. \n",
    "\n",
    "Data Visualization Tools: commercial offerings  such as Cognos Analytics, Tableau and PowerBI  and can be used for building dynamic and interactive dashboards.  \n",
    "\n",
    "Code Asset Management Tools: Git is an essential code asset management tool. GitHub is a popular web-based platform for storing and managing source code. \n"
   ]
  },
  {
   "cell_type": "markdown",
   "id": "be4fe4df",
   "metadata": {},
   "source": [
    "### Arithmetic Expressions:\n",
    "\n",
    "An expression in Python that contains a combination of operators, operands, and sometimes parenthesis is known as an arithmetic expression. The result of an arithmetic expression is also a numeric value just like the constant expression discussed above. Before getting into the example of an arithmetic expression in Python, let us first know about the various operators used in the arithmetic expressions.\n",
    "\n",
    "## Operator\tSyntax\tWorking\n",
    "###  +\t            (x + y)\t    Addition or summation of x and y.\n",
    "###  -\t             (x - y)\t  Subtraction of y from x.\n",
    "###  *               (x * y)\t  Multiplication or product of x and y.\n",
    "### /      \t         (x / y) \t  Division of x and y.\n",
    "### //\t             (x // y)\t  Quotient when x is divided by y.\n",
    "### %\t           (x % y)\t  Remainder when x is divided by y.\n",
    "### **              (x ** y)\t Exponent (x to the power of y)."
   ]
  },
  {
   "cell_type": "code",
   "execution_count": 13,
   "id": "a300948d",
   "metadata": {},
   "outputs": [
    {
     "name": "stdout",
     "output_type": "stream",
     "text": [
      "The sum of x and y is:  15\n",
      "The product of x and y is:  50\n"
     ]
    }
   ],
   "source": [
    "x = 10\n",
    "y = 5\n",
    "\n",
    "addition = x + y\n",
    "product = x * y\n",
    "\n",
    "print(\"The sum of x and y is: \", addition)\n",
    "print(\"The product of x and y is: \", product)"
   ]
  },
  {
   "cell_type": "code",
   "execution_count": 12,
   "id": "8fbd270b",
   "metadata": {},
   "outputs": [
    {
     "name": "stdout",
     "output_type": "stream",
     "text": [
      "hours =  60.0\n"
     ]
    }
   ],
   "source": [
    "# Function to convert minutes into hours\n",
    "\n",
    "def ConvertHours(n):\n",
    "\n",
    "    hours = n / 60\n",
    "\n",
    "    print(\"hours = \", hours );\n",
    "\n",
    "# Driver code\n",
    "n =3600;\n",
    "ConvertHours(n);"
   ]
  },
  {
   "cell_type": "markdown",
   "id": "347ca74e",
   "metadata": {},
   "source": [
    "## OBJECTIVES \n",
    "*  Demonstrate knowledge of statistical data analysis techniques utilized in business decision making.\n",
    "*  Apply principles of Data Science to the analysis of business problems.\n",
    "*  Use data mining software to solve real-world problems. \n",
    "*  Employ cutting edge tools and technologies to analyze Big Data."
   ]
  },
  {
   "cell_type": "markdown",
   "id": "3b890f0c",
   "metadata": {},
   "source": [
    "#### Author's Name : NISHA SAMANTA"
   ]
  },
  {
   "cell_type": "markdown",
   "id": "2e785409",
   "metadata": {},
   "source": []
  }
 ],
 "metadata": {
  "kernelspec": {
   "display_name": "Python 3 (ipykernel)",
   "language": "python",
   "name": "python3"
  },
  "language_info": {
   "codemirror_mode": {
    "name": "ipython",
    "version": 3
   },
   "file_extension": ".py",
   "mimetype": "text/x-python",
   "name": "python",
   "nbconvert_exporter": "python",
   "pygments_lexer": "ipython3",
   "version": "3.9.12"
  }
 },
 "nbformat": 4,
 "nbformat_minor": 5
}
